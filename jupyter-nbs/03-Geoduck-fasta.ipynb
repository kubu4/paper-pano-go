{
 "cells": [
  {
   "cell_type": "code",
   "execution_count": 8,
   "metadata": {
    "collapsed": false
   },
   "outputs": [
    {
     "name": "stdout",
     "output_type": "stream",
     "text": [
      "/Volumes/web-1/btea/data\n"
     ]
    }
   ],
   "source": [
    "cd /Volumes/web-1/btea/data/"
   ]
  },
  {
   "cell_type": "code",
   "execution_count": 3,
   "metadata": {
    "collapsed": false
   },
   "outputs": [
    {
     "name": "stdout",
     "output_type": "stream",
     "text": [
      "\u001b[31mGeoduck-transcriptome-v2.fasta\u001b[m\u001b[m*\r\n"
     ]
    }
   ],
   "source": [
    "ls"
   ]
  },
  {
   "cell_type": "code",
   "execution_count": 4,
   "metadata": {
    "collapsed": false
   },
   "outputs": [
    {
     "name": "stdout",
     "output_type": "stream",
     "text": [
      ">comp7_c0_seq1 len=210 path=[5082:0-45 293:46-209]\r\n",
      "TTAACCAAGGTGTGACGCCGACGCAAGGGTGAGTAGAATAGCTCTGTTTATTATCCGAAT\r\n",
      "AGTCGAGCTAAAAACACAAAGAATAAAGGTTTAACAGTTCTATCTGAAATATATATTTGG\r\n",
      "ATATCTATTGGTAAGGATACGTTTTATATTAAAAACAAACAATTTATAAAGCGCTCTCGC\r\n",
      "ACCTTGTTTTTGCATTATGAGCATATACAT\r\n",
      ">comp30_c0_seq1 len=201 path=[6331:0-200]\r\n",
      "AAGAAAATTGATTTGAAATTGACTCTGCTTGAATAGAAAAAAATGTTTTGTTCTTTTTTT\r\n",
      "CGAAGTGTAAATTGTAAATTACTTTATTAAAAAATTCATAGTTTCCGGGCAAGTTATTTT\r\n",
      "TAATATATTGTAAATGTTGTCATTCAGAGGTTTGTTACGAATATATTGTTTGACAGACAT\r\n",
      "GCTACTGTTGTACTACTATTG\r\n"
     ]
    }
   ],
   "source": [
    "!head Geoduck-transcriptome-v2.fasta"
   ]
  },
  {
   "cell_type": "code",
   "execution_count": 5,
   "metadata": {
    "collapsed": false
   },
   "outputs": [
    {
     "name": "stdout",
     "output_type": "stream",
     "text": [
      "154407\r\n"
     ]
    }
   ],
   "source": [
    "!fgrep -c \">\" Geoduck-transcriptome-v2.fasta"
   ]
  },
  {
   "cell_type": "code",
   "execution_count": 9,
   "metadata": {
    "collapsed": false
   },
   "outputs": [
    {
     "name": "stdout",
     "output_type": "stream",
     "text": [
      "\r\n",
      "0:999 \t127881\r\n",
      "1000:1999 \t18040\r\n",
      "2000:2999 \t5312\r\n",
      "3000:3999 \t1808\r\n",
      "4000:4999 \t773\r\n",
      "5000:5999 \t284\r\n",
      "6000:6999 \t139\r\n",
      "7000:7999 \t86\r\n",
      "8000:8999 \t21\r\n",
      "9000:9999 \t33\r\n",
      "10000:10999 \t7\r\n",
      "11000:11999 \t6\r\n",
      "12000:12999 \t3\r\n",
      "13000:13999 \t4\r\n",
      "14000:14999 \t4\r\n",
      "15000:15999 \t3\r\n",
      "16000:16999 \t0\r\n",
      "17000:17999 \t2\r\n",
      "18000:18999 \t1\r\n",
      "\r\n",
      "Total length of sequence:\t101836734 bp\r\n",
      "Total number of sequences:\t154407\r\n",
      "N25 stats:\t\t\t25% of total sequence length is contained in the 8036 sequences >= 2055 bp\r\n",
      "N50 stats:\t\t\t50% of total sequence length is contained in the 26074 sequences >= 1014 bp\r\n",
      "N75 stats:\t\t\t75% of total sequence length is contained in the 64502 sequences >= 445 bp\r\n",
      "Total GC count:\t\t\t37647852 bp\r\n",
      "GC %:\t\t\t\t36.97 %\r\n",
      "\r\n"
     ]
    }
   ],
   "source": [
    "!perl /Users/sr320/git-repos/course-btea/script-box/count_fasta.pl \\\n",
    "-i 1000 \\\n",
    "Geoduck-transcriptome-v2.fasta"
   ]
  },
  {
   "cell_type": "code",
   "execution_count": null,
   "metadata": {
    "collapsed": true
   },
   "outputs": [],
   "source": []
  }
 ],
 "metadata": {
  "kernelspec": {
   "display_name": "Python 2",
   "language": "python",
   "name": "python2"
  },
  "language_info": {
   "codemirror_mode": {
    "name": "ipython",
    "version": 2
   },
   "file_extension": ".py",
   "mimetype": "text/x-python",
   "name": "python",
   "nbconvert_exporter": "python",
   "pygments_lexer": "ipython2",
   "version": "2.7.10"
  }
 },
 "nbformat": 4,
 "nbformat_minor": 0
}
